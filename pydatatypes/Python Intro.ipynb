{
 "cells": [
  {
   "cell_type": "markdown",
   "id": "16f419c0",
   "metadata": {
    "heading_collapsed": true
   },
   "source": [
    "# Variables"
   ]
  },
  {
   "cell_type": "markdown",
   "id": "e7736e4e",
   "metadata": {
    "hidden": true
   },
   "source": [
    "aka boxes, maybe with contents"
   ]
  },
  {
   "cell_type": "markdown",
   "id": "268e6dff",
   "metadata": {
    "heading_collapsed": true,
    "hidden": true
   },
   "source": [
    "### They don't exist until you create them"
   ]
  },
  {
   "cell_type": "code",
   "execution_count": null,
   "id": "824e847a",
   "metadata": {
    "hidden": true
   },
   "outputs": [],
   "source": [
    "a  # No box with this \"name\""
   ]
  },
  {
   "cell_type": "markdown",
   "id": "596f7cab",
   "metadata": {
    "heading_collapsed": true,
    "hidden": true
   },
   "source": [
    "### Create a box with nothing in it"
   ]
  },
  {
   "cell_type": "code",
   "execution_count": null,
   "id": "aa1a075a",
   "metadata": {
    "hidden": true
   },
   "outputs": [],
   "source": [
    "a = None"
   ]
  },
  {
   "cell_type": "markdown",
   "id": "602591bd",
   "metadata": {
    "heading_collapsed": true,
    "hidden": true
   },
   "source": [
    "### Get the contents of that box"
   ]
  },
  {
   "cell_type": "code",
   "execution_count": null,
   "id": "3a1a1292",
   "metadata": {
    "hidden": true
   },
   "outputs": [],
   "source": [
    "a"
   ]
  },
  {
   "cell_type": "markdown",
   "id": "377c2af9",
   "metadata": {
    "hidden": true
   },
   "source": [
    "**What did you expect? There is nothing in it, n00b!**"
   ]
  },
  {
   "cell_type": "markdown",
   "id": "233d80ed",
   "metadata": {
    "heading_collapsed": true,
    "hidden": true
   },
   "source": [
    "### Put something into that box"
   ]
  },
  {
   "cell_type": "markdown",
   "id": "ed80bc3c",
   "metadata": {
    "hidden": true
   },
   "source": [
    "aka *assignment*.\n",
    "\n",
    "Note: Python is trying to be a smartass at all times, but sometimes it fails*. This will create a new box instead of updating the contents of the existing box!\n",
    "\n",
    "\\* **If you think Python fails: NO U**."
   ]
  },
  {
   "cell_type": "code",
   "execution_count": null,
   "id": "aa2606a0",
   "metadata": {
    "hidden": true
   },
   "outputs": [],
   "source": [
    "a = 1"
   ]
  },
  {
   "cell_type": "code",
   "execution_count": null,
   "id": "dce3bd60",
   "metadata": {
    "hidden": true
   },
   "outputs": [],
   "source": [
    "a"
   ]
  },
  {
   "cell_type": "markdown",
   "id": "c08c45ec",
   "metadata": {
    "heading_collapsed": true,
    "hidden": true
   },
   "source": [
    "### Use the contents for something"
   ]
  },
  {
   "cell_type": "code",
   "execution_count": null,
   "id": "5e0231b1",
   "metadata": {
    "hidden": true
   },
   "outputs": [],
   "source": [
    "a + 1  # really advanced math"
   ]
  },
  {
   "cell_type": "code",
   "execution_count": null,
   "id": "fe91ddd1",
   "metadata": {
    "hidden": true
   },
   "outputs": [],
   "source": [
    "a & 1  # crawl back into the C-hell you came from"
   ]
  },
  {
   "cell_type": "markdown",
   "id": "5297d320",
   "metadata": {
    "heading_collapsed": true
   },
   "source": [
    "# Text\n",
    "\n",
    "aka *string* (`str`)"
   ]
  },
  {
   "cell_type": "markdown",
   "id": "1317312b",
   "metadata": {
    "heading_collapsed": true,
    "hidden": true
   },
   "source": [
    "### What it looks like"
   ]
  },
  {
   "cell_type": "code",
   "execution_count": null,
   "id": "6c3c7465",
   "metadata": {
    "hidden": true
   },
   "outputs": [],
   "source": [
    "\"this is a string\""
   ]
  },
  {
   "cell_type": "code",
   "execution_count": null,
   "id": "7e78b3ab",
   "metadata": {
    "hidden": true
   },
   "outputs": [],
   "source": [
    "'this is also a string'"
   ]
  },
  {
   "cell_type": "code",
   "execution_count": null,
   "id": "8ed0e50e",
   "metadata": {
    "hidden": true
   },
   "outputs": [],
   "source": [
    "'t'  # also a string!"
   ]
  },
  {
   "cell_type": "code",
   "execution_count": null,
   "id": "5b3b163d",
   "metadata": {
    "hidden": true
   },
   "outputs": [],
   "source": [
    "type('t'), type('this is also a string'), type(\"this is also a string\")"
   ]
  },
  {
   "cell_type": "markdown",
   "id": "48d88f32",
   "metadata": {
    "heading_collapsed": true,
    "hidden": true
   },
   "source": [
    "### Put it in a box and give it a name!"
   ]
  },
  {
   "cell_type": "markdown",
   "id": "293164b7",
   "metadata": {
    "hidden": true
   },
   "source": [
    "aka save aka *assignment*"
   ]
  },
  {
   "cell_type": "code",
   "execution_count": null,
   "id": "069fb205",
   "metadata": {
    "hidden": true
   },
   "outputs": [],
   "source": [
    "text = \"abcdefghijklmnopqrstuvxwyz\""
   ]
  },
  {
   "cell_type": "markdown",
   "id": "3696c8ff",
   "metadata": {
    "heading_collapsed": true,
    "hidden": true
   },
   "source": [
    "### What's the first character?"
   ]
  },
  {
   "cell_type": "markdown",
   "id": "b6906422",
   "metadata": {
    "hidden": true
   },
   "source": [
    "We start counting from 0, because [reasons]. \n",
    "\n",
    "**Btw, floor #1 is NOT the ground floor, wtf is wrong with you?**"
   ]
  },
  {
   "cell_type": "code",
   "execution_count": null,
   "id": "1d2c447b",
   "metadata": {
    "hidden": true
   },
   "outputs": [],
   "source": [
    "text[0]"
   ]
  },
  {
   "cell_type": "markdown",
   "id": "dfa70b89",
   "metadata": {
    "heading_collapsed": true,
    "hidden": true
   },
   "source": [
    "### What's the last character?"
   ]
  },
  {
   "cell_type": "code",
   "execution_count": null,
   "id": "9b131faf",
   "metadata": {
    "hidden": true
   },
   "outputs": [],
   "source": [
    "text[25]"
   ]
  },
  {
   "cell_type": "markdown",
   "id": "a940e33b",
   "metadata": {
    "heading_collapsed": true,
    "hidden": true
   },
   "source": [
    "#### **Are you kidding me? Do you expect me to count?**"
   ]
  },
  {
   "cell_type": "code",
   "execution_count": null,
   "id": "9f36eaa6",
   "metadata": {
    "hidden": true
   },
   "outputs": [],
   "source": [
    "text[-1]"
   ]
  },
  {
   "cell_type": "markdown",
   "id": "a1f8ceaf",
   "metadata": {
    "heading_collapsed": true,
    "hidden": true
   },
   "source": [
    "#### Second and second to last?"
   ]
  },
  {
   "cell_type": "code",
   "execution_count": null,
   "id": "94709c69",
   "metadata": {
    "hidden": true
   },
   "outputs": [],
   "source": [
    "text[1], text[-2]"
   ]
  },
  {
   "cell_type": "markdown",
   "id": "7cf1d229",
   "metadata": {
    "heading_collapsed": true,
    "hidden": true
   },
   "source": [
    "#### First 5 letters?"
   ]
  },
  {
   "cell_type": "code",
   "execution_count": null,
   "id": "1e5f281b",
   "metadata": {
    "hidden": true
   },
   "outputs": [],
   "source": [
    "text[:5]  # [, )"
   ]
  },
  {
   "cell_type": "markdown",
   "id": "d7269872",
   "metadata": {
    "heading_collapsed": true,
    "hidden": true
   },
   "source": [
    "#### Next 5 letters?"
   ]
  },
  {
   "cell_type": "code",
   "execution_count": null,
   "id": "5c172e24",
   "metadata": {
    "hidden": true
   },
   "outputs": [],
   "source": [
    "text[5:10]"
   ]
  },
  {
   "cell_type": "markdown",
   "id": "d9876293",
   "metadata": {
    "heading_collapsed": true,
    "hidden": true
   },
   "source": [
    "#### \"Out of bounds\" errors shouldn't terrify you (most of the time!)"
   ]
  },
  {
   "cell_type": "code",
   "execution_count": null,
   "id": "57e3df53",
   "metadata": {
    "hidden": true
   },
   "outputs": [],
   "source": [
    "text[42]  # Your computer won't break"
   ]
  },
  {
   "cell_type": "code",
   "execution_count": null,
   "id": "2f88f661",
   "metadata": {
    "hidden": true
   },
   "outputs": [],
   "source": [
    "text[42:]  # Python won't even complain"
   ]
  },
  {
   "cell_type": "code",
   "execution_count": null,
   "id": "5bfd905b",
   "metadata": {
    "hidden": true
   },
   "outputs": [],
   "source": [
    "text[42:66]  # Still won't even complain"
   ]
  },
  {
   "cell_type": "code",
   "execution_count": null,
   "id": "d24a7e40",
   "metadata": {
    "hidden": true
   },
   "outputs": [],
   "source": [
    "text[:-36]  # Nope"
   ]
  },
  {
   "cell_type": "code",
   "execution_count": null,
   "id": "6343d672",
   "metadata": {
    "hidden": true
   },
   "outputs": [],
   "source": [
    "text[-36:]  # Will you stop it?"
   ]
  },
  {
   "cell_type": "markdown",
   "id": "9f77eae5",
   "metadata": {
    "heading_collapsed": true,
    "hidden": true
   },
   "source": [
    "### Prefix & suffix checks"
   ]
  },
  {
   "cell_type": "code",
   "execution_count": null,
   "id": "acf05744",
   "metadata": {
    "hidden": true
   },
   "outputs": [],
   "source": [
    "text.startswith(\"abc\")"
   ]
  },
  {
   "cell_type": "code",
   "execution_count": null,
   "id": "16790c0f",
   "metadata": {
    "hidden": true
   },
   "outputs": [],
   "source": [
    "text.endswith(\"xyz\")"
   ]
  },
  {
   "cell_type": "markdown",
   "id": "eb0fff61",
   "metadata": {
    "heading_collapsed": true,
    "hidden": true
   },
   "source": [
    "### Can't touch this"
   ]
  },
  {
   "cell_type": "markdown",
   "id": "a9253a31",
   "metadata": {
    "hidden": true
   },
   "source": [
    "Strings are like ink on a piece of paper: you can't modify the ink! It is *immutable*.  (FriXion doesn't count)"
   ]
  },
  {
   "cell_type": "code",
   "execution_count": null,
   "id": "3cd3b4f7",
   "metadata": {
    "hidden": true
   },
   "outputs": [],
   "source": [
    "text[1] = 'b'"
   ]
  },
  {
   "cell_type": "markdown",
   "id": "d5b4cd5f",
   "metadata": {
    "hidden": true
   },
   "source": [
    "But you can create a new piece of paper!"
   ]
  },
  {
   "cell_type": "code",
   "execution_count": null,
   "id": "ea1a5167",
   "metadata": {
    "hidden": true
   },
   "outputs": [],
   "source": [
    "text = \"tis is a string\"\n",
    "text"
   ]
  },
  {
   "cell_type": "markdown",
   "id": "14559cd1",
   "metadata": {
    "heading_collapsed": true,
    "hidden": true
   },
   "source": [
    "#### `replace` doesn't \"replace\""
   ]
  },
  {
   "cell_type": "code",
   "execution_count": null,
   "id": "f295369f",
   "metadata": {
    "hidden": true
   },
   "outputs": [],
   "source": [
    "text.replace(\"is\", \"was\")"
   ]
  },
  {
   "cell_type": "code",
   "execution_count": null,
   "id": "33e47fd2",
   "metadata": {
    "hidden": true
   },
   "outputs": [],
   "source": [
    "text"
   ]
  },
  {
   "cell_type": "markdown",
   "id": "6976f216",
   "metadata": {
    "heading_collapsed": true,
    "hidden": true
   },
   "source": [
    "### \"Overload\"?"
   ]
  },
  {
   "cell_type": "code",
   "execution_count": null,
   "id": "9b832979",
   "metadata": {
    "hidden": true
   },
   "outputs": [],
   "source": [
    "sentence1 = \"This is a sentence.\"\n",
    "sentence2 = \"I have no imagination.\"\n",
    "\n",
    "sentence1 + \" \" + sentence2"
   ]
  },
  {
   "cell_type": "markdown",
   "id": "91400fab",
   "metadata": {
    "heading_collapsed": true,
    "hidden": true
   },
   "source": [
    "### Other stuff"
   ]
  },
  {
   "cell_type": "markdown",
   "id": "fb4f597a",
   "metadata": {
    "heading_collapsed": true,
    "hidden": true
   },
   "source": [
    "#### Formatting: wrong ways to do it"
   ]
  },
  {
   "cell_type": "code",
   "execution_count": null,
   "id": "91c5373d",
   "metadata": {
    "hidden": true
   },
   "outputs": [],
   "source": [
    "\"This is %s in C\" % \"how people do it\""
   ]
  },
  {
   "cell_type": "code",
   "execution_count": null,
   "id": "c49bec3f",
   "metadata": {
    "hidden": true
   },
   "outputs": [],
   "source": [
    "\"Another way to {text} formatting\".format(text=\"do string\")"
   ]
  },
  {
   "cell_type": "markdown",
   "id": "e1cf0b26",
   "metadata": {
    "heading_collapsed": true,
    "hidden": true
   },
   "source": [
    "#### Formatting: the one true way"
   ]
  },
  {
   "cell_type": "code",
   "execution_count": null,
   "id": "e248189b",
   "metadata": {
    "hidden": true
   },
   "outputs": [],
   "source": [
    "%%javascript\n",
    "\n",
    "let a = \"This\";\n",
    "`${a} is called a template literal`;"
   ]
  },
  {
   "cell_type": "code",
   "execution_count": null,
   "id": "540f4bc0",
   "metadata": {
    "hidden": true
   },
   "outputs": [],
   "source": [
    "you = \"are a psycho\"\n",
    "f\"But use this unless you {you}\""
   ]
  },
  {
   "cell_type": "code",
   "execution_count": null,
   "id": "6ccaebce",
   "metadata": {
    "hidden": true
   },
   "outputs": [],
   "source": [
    "f\"But use this unless {you=}\""
   ]
  },
  {
   "cell_type": "markdown",
   "id": "f20a6628",
   "metadata": {
    "heading_collapsed": true,
    "hidden": true
   },
   "source": [
    "#### Encoding"
   ]
  },
  {
   "cell_type": "code",
   "execution_count": null,
   "id": "f1097691",
   "metadata": {
    "hidden": true
   },
   "outputs": [],
   "source": [
    "\"ÜTF? Did you mean WTF?\".encode(\"ascii\")"
   ]
  },
  {
   "cell_type": "code",
   "execution_count": null,
   "id": "44e46cee",
   "metadata": {
    "hidden": true
   },
   "outputs": [],
   "source": [
    "\"ÜTF? Did you mean WTF?\".encode(\"utf8\")"
   ]
  },
  {
   "cell_type": "code",
   "execution_count": null,
   "id": "45c4d851",
   "metadata": {
    "hidden": true
   },
   "outputs": [],
   "source": [
    "\"ÜTF? Did you mean WTF?\".encode(\"iso-8859-1\")"
   ]
  },
  {
   "cell_type": "code",
   "execution_count": null,
   "id": "27c31b5a",
   "metadata": {
    "hidden": true,
    "scrolled": true
   },
   "outputs": [],
   "source": [
    "\"ÜTF? Did you mean WTF?\".encode(\"utf8\")[0]"
   ]
  },
  {
   "cell_type": "code",
   "execution_count": null,
   "id": "d939c13e",
   "metadata": {
    "hidden": true
   },
   "outputs": [],
   "source": [
    "\"ÜTF? Did you mean WTF?\".encode(\"iso-8859-1\")[0]"
   ]
  },
  {
   "cell_type": "code",
   "execution_count": null,
   "id": "f69a8e4b",
   "metadata": {
    "hidden": true
   },
   "outputs": [],
   "source": [
    "\"ÜTF? Did you mean WTF?\".encode(\"utf8\")[2]"
   ]
  },
  {
   "cell_type": "code",
   "execution_count": null,
   "id": "7bb9fcf6",
   "metadata": {
    "hidden": true
   },
   "outputs": [],
   "source": [
    "\"ÜTF? Did you mean WTF?\".encode(\"iso-8859-1\")[1]"
   ]
  },
  {
   "cell_type": "markdown",
   "id": "804a4d0b",
   "metadata": {
    "heading_collapsed": true,
    "hidden": true
   },
   "source": [
    "#### Joins"
   ]
  },
  {
   "cell_type": "code",
   "execution_count": null,
   "id": "2a87c6a8",
   "metadata": {
    "hidden": true
   },
   "outputs": [],
   "source": [
    "\"___\".join(\"WTF\")"
   ]
  },
  {
   "cell_type": "code",
   "execution_count": null,
   "id": "dfbe539b",
   "metadata": {
    "hidden": true
   },
   "outputs": [],
   "source": [
    "\"___\".join([\"one\", \"two\", \"three\"])"
   ]
  },
  {
   "cell_type": "markdown",
   "id": "e22c345d",
   "metadata": {
    "heading_collapsed": true
   },
   "source": [
    "# Numbers\n",
    "\n",
    "Not the show! It's the thing they teach you at kindergarden."
   ]
  },
  {
   "cell_type": "code",
   "execution_count": null,
   "id": "00bcc027",
   "metadata": {
    "hidden": true
   },
   "outputs": [],
   "source": [
    "3.14157  # pi on a diet"
   ]
  },
  {
   "cell_type": "markdown",
   "id": "107be44e",
   "metadata": {
    "heading_collapsed": true,
    "hidden": true
   },
   "source": [
    "### Types of numbers"
   ]
  },
  {
   "cell_type": "markdown",
   "id": "aeef3f08",
   "metadata": {
    "hidden": true
   },
   "source": [
    "- char\n",
    "- int\n",
    "- unsigned int\n",
    "- short\n",
    "- long\n",
    "- very very very long int\n",
    "- const * \n",
    "- **SHUT UP, C-HOLE!**\n"
   ]
  },
  {
   "cell_type": "markdown",
   "id": "2355df84",
   "metadata": {
    "heading_collapsed": true,
    "hidden": true
   },
   "source": [
    "### Number is number*"
   ]
  },
  {
   "cell_type": "markdown",
   "id": "252187db",
   "metadata": {
    "hidden": true
   },
   "source": [
    "<img src=\"images/number_is_number.png\">\n",
    "\n",
    "\n",
    "\\* Well, it can be an `int` or a `float` or a `complex` or a `Decimal` or a `Fraction` or a `ICanCreateMyOwnTypes`"
   ]
  },
  {
   "cell_type": "code",
   "execution_count": null,
   "id": "0e3b3834",
   "metadata": {
    "hidden": true
   },
   "outputs": [],
   "source": [
    "# long int ?\n",
    "156819841891351564413877416518423121876181921747928792379523479214982749237217921462176151518616278278278278"
   ]
  },
  {
   "cell_type": "code",
   "execution_count": null,
   "id": "98436274",
   "metadata": {
    "hidden": true
   },
   "outputs": [],
   "source": [
    "type(156819841891351564413877416518423121876181921747928792379523479214982749237217921462176151518616278278278278)"
   ]
  },
  {
   "cell_type": "code",
   "execution_count": null,
   "id": "9e33ea5d",
   "metadata": {
    "hidden": true
   },
   "outputs": [],
   "source": [
    "type(3.2)"
   ]
  },
  {
   "cell_type": "code",
   "execution_count": null,
   "id": "2c368032",
   "metadata": {
    "hidden": true
   },
   "outputs": [],
   "source": [
    "type(3 + 5j)"
   ]
  },
  {
   "cell_type": "code",
   "execution_count": null,
   "id": "3fedaa44",
   "metadata": {
    "hidden": true
   },
   "outputs": [],
   "source": [
    "from decimal import Decimal\n",
    "\n",
    "d = Decimal('0.156819841891351564413877416518423121876181921747928792379523479214982749237217921462176151518616278278278272')\n",
    "d"
   ]
  },
  {
   "cell_type": "code",
   "execution_count": null,
   "id": "688c6926",
   "metadata": {
    "hidden": true
   },
   "outputs": [],
   "source": [
    "from fractions import Fraction\n",
    "\n",
    "f = Fraction(5, 7)\n",
    "f"
   ]
  },
  {
   "cell_type": "code",
   "execution_count": null,
   "id": "df8be237",
   "metadata": {
    "hidden": true
   },
   "outputs": [],
   "source": [
    "Fraction.from_decimal(d)"
   ]
  },
  {
   "cell_type": "code",
   "execution_count": null,
   "id": "0b5ba09c",
   "metadata": {
    "hidden": true
   },
   "outputs": [],
   "source": [
    "f + Fraction.from_decimal(d)"
   ]
  },
  {
   "cell_type": "markdown",
   "id": "41567dd2",
   "metadata": {
    "heading_collapsed": true,
    "hidden": true
   },
   "source": [
    "### Add 2 numbers"
   ]
  },
  {
   "cell_type": "code",
   "execution_count": null,
   "id": "54221a8c",
   "metadata": {
    "hidden": true
   },
   "outputs": [],
   "source": [
    "1 + 1"
   ]
  },
  {
   "cell_type": "markdown",
   "id": "6f1afd1b",
   "metadata": {
    "heading_collapsed": true,
    "hidden": true
   },
   "source": [
    "### Add 3 numbers"
   ]
  },
  {
   "cell_type": "code",
   "execution_count": null,
   "id": "edb1ee3b",
   "metadata": {
    "hidden": true
   },
   "outputs": [],
   "source": [
    "1 + 1 + 465149651644600000000"
   ]
  },
  {
   "cell_type": "markdown",
   "id": "aa557e56",
   "metadata": {
    "heading_collapsed": true,
    "hidden": true
   },
   "source": [
    "### Subtract"
   ]
  },
  {
   "cell_type": "code",
   "execution_count": null,
   "id": "2f285c47",
   "metadata": {
    "hidden": true
   },
   "outputs": [],
   "source": [
    "1 - 1"
   ]
  },
  {
   "cell_type": "code",
   "execution_count": null,
   "id": "6450a9bd",
   "metadata": {
    "hidden": true
   },
   "outputs": [],
   "source": [
    "1 + (-1)"
   ]
  },
  {
   "cell_type": "markdown",
   "id": "d8b1a579",
   "metadata": {
    "heading_collapsed": true,
    "hidden": true
   },
   "source": [
    "### Multiply"
   ]
  },
  {
   "cell_type": "code",
   "execution_count": null,
   "id": "c320c023",
   "metadata": {
    "hidden": true
   },
   "outputs": [],
   "source": [
    "2 * 3"
   ]
  },
  {
   "cell_type": "code",
   "execution_count": null,
   "id": "57f65ebc",
   "metadata": {
    "hidden": true
   },
   "outputs": [],
   "source": [
    "0.666666666666666 * 3"
   ]
  },
  {
   "cell_type": "code",
   "execution_count": null,
   "id": "d9fdae0e",
   "metadata": {
    "hidden": true
   },
   "outputs": [],
   "source": [
    "0.6666666666666666 * 3  # WAT"
   ]
  },
  {
   "cell_type": "markdown",
   "id": "4ef0b93c",
   "metadata": {
    "heading_collapsed": true,
    "hidden": true
   },
   "source": [
    "### Divide"
   ]
  },
  {
   "cell_type": "code",
   "execution_count": null,
   "id": "88f4fbd1",
   "metadata": {
    "hidden": true
   },
   "outputs": [],
   "source": [
    "2 / 2"
   ]
  },
  {
   "cell_type": "code",
   "execution_count": null,
   "id": "934358ab",
   "metadata": {
    "hidden": true
   },
   "outputs": [],
   "source": [
    "4 / 2 "
   ]
  },
  {
   "cell_type": "code",
   "execution_count": null,
   "id": "65efc8f7",
   "metadata": {
    "hidden": true
   },
   "outputs": [],
   "source": [
    "2 / 3"
   ]
  },
  {
   "cell_type": "markdown",
   "id": "5a3baba3",
   "metadata": {
    "heading_collapsed": true,
    "hidden": true
   },
   "source": [
    "### Impress your family at the dinner table\n",
    "\n",
    "aka welcome to the top 5% since \"95% of people can't solve this simple math problem\""
   ]
  },
  {
   "cell_type": "code",
   "execution_count": null,
   "id": "b3a6db80",
   "metadata": {
    "hidden": true
   },
   "outputs": [],
   "source": [
    "3 + 3 - 3 * 3 / 3   "
   ]
  },
  {
   "cell_type": "markdown",
   "id": "58c2178d",
   "metadata": {
    "heading_collapsed": true,
    "hidden": true
   },
   "source": [
    "### Divide, again"
   ]
  },
  {
   "cell_type": "code",
   "execution_count": null,
   "id": "3fca24b3",
   "metadata": {
    "hidden": true
   },
   "outputs": [],
   "source": [
    "5 // 2"
   ]
  },
  {
   "cell_type": "code",
   "execution_count": null,
   "id": "3999bc33",
   "metadata": {
    "hidden": true,
    "scrolled": true
   },
   "outputs": [],
   "source": [
    "5 % 2"
   ]
  },
  {
   "cell_type": "code",
   "execution_count": null,
   "id": "8635a2ef",
   "metadata": {
    "hidden": true
   },
   "outputs": [],
   "source": [
    "(5 // 2) * 2 + 5 % 2"
   ]
  },
  {
   "cell_type": "code",
   "execution_count": null,
   "id": "d52bf941",
   "metadata": {
    "hidden": true
   },
   "outputs": [],
   "source": [
    "5 // 3, -5 // 3"
   ]
  },
  {
   "cell_type": "code",
   "execution_count": null,
   "id": "08b750b5",
   "metadata": {
    "hidden": true
   },
   "outputs": [],
   "source": [
    "(-5 // 2) * 2 + (-5) % 2"
   ]
  },
  {
   "cell_type": "code",
   "execution_count": null,
   "id": "4675bbc9",
   "metadata": {
    "hidden": true
   },
   "outputs": [],
   "source": [
    "divmod(5, 2)"
   ]
  },
  {
   "cell_type": "markdown",
   "id": "b8a2f1af",
   "metadata": {
    "heading_collapsed": true,
    "hidden": true
   },
   "source": [
    "### Moon moon? Star star?? "
   ]
  },
  {
   "cell_type": "markdown",
   "id": "fb3ade7d",
   "metadata": {
    "hidden": true
   },
   "source": [
    "<img src=\"images/what_is_it_precious.png\" style=\"height: 550px\">"
   ]
  },
  {
   "cell_type": "code",
   "execution_count": null,
   "id": "e583adae",
   "metadata": {
    "hidden": true,
    "scrolled": true
   },
   "outputs": [],
   "source": [
    "# VERY VERY VERY VERY VERY VERY VERY VERY VERY VERY VERY VERY VERY something\n",
    "13 ** 19885"
   ]
  },
  {
   "cell_type": "code",
   "execution_count": null,
   "id": "5a6829bb",
   "metadata": {
    "hidden": true
   },
   "outputs": [],
   "source": [
    "pow(13, 19885) == 13 ** 19885"
   ]
  },
  {
   "cell_type": "markdown",
   "id": "c0cf0e83",
   "metadata": {
    "heading_collapsed": true
   },
   "source": [
    "# Containers"
   ]
  },
  {
   "cell_type": "markdown",
   "id": "c5381574",
   "metadata": {
    "heading_collapsed": true,
    "hidden": true
   },
   "source": [
    "## Lists"
   ]
  },
  {
   "cell_type": "markdown",
   "id": "abc9dbe0",
   "metadata": {
    "hidden": true
   },
   "source": [
    "Lists are a collection of Python objects. The objects can have ANY type so they're different from arrays.\n",
    "\n",
    "(Note: They're not linked lists. They behave like arrays, and are implemented with arrays in C)"
   ]
  },
  {
   "cell_type": "markdown",
   "id": "cdcc5a76",
   "metadata": {
    "heading_collapsed": true,
    "hidden": true
   },
   "source": [
    "### Define a list"
   ]
  },
  {
   "cell_type": "code",
   "execution_count": null,
   "id": "f893200d",
   "metadata": {
    "hidden": true
   },
   "outputs": [],
   "source": [
    "[]"
   ]
  },
  {
   "cell_type": "code",
   "execution_count": null,
   "id": "592da355",
   "metadata": {
    "hidden": true
   },
   "outputs": [],
   "source": [
    "type([])"
   ]
  },
  {
   "cell_type": "code",
   "execution_count": null,
   "id": "cea05f7c",
   "metadata": {
    "hidden": true
   },
   "outputs": [],
   "source": [
    "[1, 2, 3, \"a\", [6, 7]]"
   ]
  },
  {
   "cell_type": "code",
   "execution_count": null,
   "id": "4004bdeb",
   "metadata": {
    "hidden": true
   },
   "outputs": [],
   "source": [
    "a = [1, 2, 3, \"a\", [6, 7]]\n",
    "a"
   ]
  },
  {
   "cell_type": "markdown",
   "id": "719971de",
   "metadata": {
    "heading_collapsed": true,
    "hidden": true
   },
   "source": [
    "### Add an item"
   ]
  },
  {
   "cell_type": "markdown",
   "id": "86816cef",
   "metadata": {
    "heading_collapsed": true,
    "hidden": true
   },
   "source": [
    "#### At the end"
   ]
  },
  {
   "cell_type": "code",
   "execution_count": null,
   "id": "60b3d1e9",
   "metadata": {
    "hidden": true
   },
   "outputs": [],
   "source": [
    "a.append(9999)\n",
    "a"
   ]
  },
  {
   "cell_type": "markdown",
   "id": "444aeca6",
   "metadata": {
    "heading_collapsed": true,
    "hidden": true
   },
   "source": [
    "#### At the start"
   ]
  },
  {
   "cell_type": "code",
   "execution_count": null,
   "id": "61559ebb",
   "metadata": {
    "hidden": true
   },
   "outputs": [],
   "source": [
    "a.insert(0, \"start\")\n",
    "a"
   ]
  },
  {
   "cell_type": "markdown",
   "id": "a27eb36f",
   "metadata": {
    "heading_collapsed": true,
    "hidden": true
   },
   "source": [
    "#### At position 3"
   ]
  },
  {
   "cell_type": "code",
   "execution_count": null,
   "id": "7214c911",
   "metadata": {
    "hidden": true
   },
   "outputs": [],
   "source": [
    "a.insert(3, 0xDEADBEEF)\n",
    "a"
   ]
  },
  {
   "cell_type": "markdown",
   "id": "e432211a",
   "metadata": {
    "heading_collapsed": true,
    "hidden": true
   },
   "source": [
    "### Remove an item"
   ]
  },
  {
   "cell_type": "markdown",
   "id": "74fbadc9",
   "metadata": {
    "heading_collapsed": true,
    "hidden": true
   },
   "source": [
    "#### At the end"
   ]
  },
  {
   "cell_type": "code",
   "execution_count": null,
   "id": "7323999d",
   "metadata": {
    "hidden": true
   },
   "outputs": [],
   "source": [
    "a.pop()"
   ]
  },
  {
   "cell_type": "code",
   "execution_count": null,
   "id": "4cd6569b",
   "metadata": {
    "hidden": true
   },
   "outputs": [],
   "source": [
    "a"
   ]
  },
  {
   "cell_type": "markdown",
   "id": "1359a907",
   "metadata": {
    "heading_collapsed": true,
    "hidden": true
   },
   "source": [
    "#### At the start"
   ]
  },
  {
   "cell_type": "code",
   "execution_count": null,
   "id": "ebcb92f1",
   "metadata": {
    "hidden": true
   },
   "outputs": [],
   "source": [
    "a.pop(0)"
   ]
  },
  {
   "cell_type": "code",
   "execution_count": null,
   "id": "6ba4c7fd",
   "metadata": {
    "hidden": true
   },
   "outputs": [],
   "source": [
    "a"
   ]
  },
  {
   "cell_type": "markdown",
   "id": "6b1cd323",
   "metadata": {
    "heading_collapsed": true,
    "hidden": true
   },
   "source": [
    "#### At position 5"
   ]
  },
  {
   "cell_type": "code",
   "execution_count": null,
   "id": "d9bdacab",
   "metadata": {
    "hidden": true
   },
   "outputs": [],
   "source": [
    "a.pop(5)"
   ]
  },
  {
   "cell_type": "code",
   "execution_count": null,
   "id": "737dc8bc",
   "metadata": {
    "hidden": true
   },
   "outputs": [],
   "source": [
    "a"
   ]
  },
  {
   "cell_type": "markdown",
   "id": "372ebd13",
   "metadata": {
    "heading_collapsed": true,
    "hidden": true
   },
   "source": [
    "#### A specific item"
   ]
  },
  {
   "cell_type": "code",
   "execution_count": null,
   "id": "c380cefd",
   "metadata": {
    "hidden": true
   },
   "outputs": [],
   "source": [
    "a.remove(0xDEADBEEF)"
   ]
  },
  {
   "cell_type": "code",
   "execution_count": null,
   "id": "53755dfe",
   "metadata": {
    "hidden": true
   },
   "outputs": [],
   "source": [
    "a"
   ]
  },
  {
   "cell_type": "markdown",
   "id": "5d2decd7",
   "metadata": {
    "heading_collapsed": true,
    "hidden": true
   },
   "source": [
    "### Find an item"
   ]
  },
  {
   "cell_type": "code",
   "execution_count": null,
   "id": "980ea738",
   "metadata": {
    "hidden": true
   },
   "outputs": [],
   "source": [
    "a.index('a')"
   ]
  },
  {
   "cell_type": "code",
   "execution_count": null,
   "id": "f9412f02",
   "metadata": {
    "hidden": true
   },
   "outputs": [],
   "source": [
    "a[a.index('a')]"
   ]
  },
  {
   "cell_type": "code",
   "execution_count": null,
   "id": "7a0c73d9",
   "metadata": {
    "hidden": true
   },
   "outputs": [],
   "source": [
    "a.index('b')"
   ]
  },
  {
   "cell_type": "code",
   "execution_count": null,
   "id": "ab43703f",
   "metadata": {
    "hidden": true
   },
   "outputs": [],
   "source": [
    "'b' in a"
   ]
  },
  {
   "cell_type": "markdown",
   "id": "03855d54",
   "metadata": {
    "heading_collapsed": true,
    "hidden": true
   },
   "source": [
    "#### How many times does an item appear in the list?"
   ]
  },
  {
   "cell_type": "code",
   "execution_count": null,
   "id": "205cc272",
   "metadata": {
    "hidden": true
   },
   "outputs": [],
   "source": [
    "[1, 2, 1, 3, 1].count(1)"
   ]
  },
  {
   "cell_type": "markdown",
   "id": "94c79d70",
   "metadata": {
    "heading_collapsed": true,
    "hidden": true
   },
   "source": [
    "## Tuples"
   ]
  },
  {
   "cell_type": "code",
   "execution_count": null,
   "id": "a8ed36e5",
   "metadata": {
    "hidden": true
   },
   "outputs": [],
   "source": [
    "()"
   ]
  },
  {
   "cell_type": "code",
   "execution_count": null,
   "id": "186360a0",
   "metadata": {
    "hidden": true
   },
   "outputs": [],
   "source": [
    "type(())"
   ]
  },
  {
   "cell_type": "code",
   "execution_count": null,
   "id": "5e79fca9",
   "metadata": {
    "hidden": true,
    "scrolled": false
   },
   "outputs": [],
   "source": [
    "a = (0, 1, 2, 3)\n",
    "a"
   ]
  },
  {
   "cell_type": "code",
   "execution_count": null,
   "id": "6daa18bd",
   "metadata": {
    "hidden": true
   },
   "outputs": [],
   "source": [
    "type(a)"
   ]
  },
  {
   "cell_type": "markdown",
   "id": "68c3a9dc",
   "metadata": {
    "heading_collapsed": true,
    "hidden": true
   },
   "source": [
    "### WTF"
   ]
  },
  {
   "cell_type": "code",
   "execution_count": null,
   "id": "fb031b7e",
   "metadata": {
    "hidden": true
   },
   "outputs": [],
   "source": [
    "type((1))  # WTF?"
   ]
  },
  {
   "cell_type": "code",
   "execution_count": null,
   "id": "ff36422b",
   "metadata": {
    "hidden": true
   },
   "outputs": [],
   "source": [
    "a = 0, 1, 2, 3  # WTF???\n",
    "type(a)"
   ]
  },
  {
   "cell_type": "code",
   "execution_count": null,
   "id": "b04c2d50",
   "metadata": {
    "hidden": true
   },
   "outputs": [],
   "source": [
    "type((1,))  # WTF?"
   ]
  },
  {
   "cell_type": "markdown",
   "id": "b3e93cfc",
   "metadata": {
    "heading_collapsed": true,
    "hidden": true
   },
   "source": [
    "### Operations"
   ]
  },
  {
   "cell_type": "code",
   "execution_count": null,
   "id": "c5504d21",
   "metadata": {
    "hidden": true
   },
   "outputs": [],
   "source": [
    "a.count(1), a.index(2)"
   ]
  },
  {
   "cell_type": "markdown",
   "id": "a3b1b2d5",
   "metadata": {
    "hidden": true
   },
   "source": [
    "**That's it????** \n",
    "\n",
    "Yes. Tuples are immutable and typically used as a data type (think like an early implementation of a `struct`)."
   ]
  },
  {
   "cell_type": "markdown",
   "id": "10108529",
   "metadata": {
    "heading_collapsed": true,
    "hidden": true
   },
   "source": [
    "## Dicts"
   ]
  },
  {
   "cell_type": "markdown",
   "id": "b9f5afa7",
   "metadata": {
    "hidden": true
   },
   "source": [
    "> Object, (hash)map, key-value store, dictionary, converter, translator, squiggly. I have many names.\n",
    ">\n",
    "> -Nobody"
   ]
  },
  {
   "cell_type": "code",
   "execution_count": null,
   "id": "3ed45dc8",
   "metadata": {
    "hidden": true
   },
   "outputs": [],
   "source": [
    "ord(\"a\"), chr(97)"
   ]
  },
  {
   "cell_type": "code",
   "execution_count": null,
   "id": "6ab5c8bf",
   "metadata": {
    "hidden": true
   },
   "outputs": [],
   "source": [
    "char_to_ascii = {\n",
    "    \"a\": 97,\n",
    "    \"b\": 98\n",
    "}\n",
    "\n",
    "ascii_to_char = {\n",
    "    97: \"a\",\n",
    "    98: \"b\"\n",
    "}"
   ]
  },
  {
   "cell_type": "code",
   "execution_count": null,
   "id": "ddbaa604",
   "metadata": {
    "hidden": true
   },
   "outputs": [],
   "source": [
    "char_to_ascii"
   ]
  },
  {
   "cell_type": "code",
   "execution_count": null,
   "id": "4ed39668",
   "metadata": {
    "hidden": true
   },
   "outputs": [],
   "source": [
    "type(char_to_ascii)"
   ]
  },
  {
   "cell_type": "markdown",
   "id": "c5a3f487",
   "metadata": {
    "heading_collapsed": true,
    "hidden": true
   },
   "source": [
    "### Get all keys"
   ]
  },
  {
   "cell_type": "code",
   "execution_count": null,
   "id": "3e7addb6",
   "metadata": {
    "hidden": true
   },
   "outputs": [],
   "source": [
    "ascii_to_char.keys()"
   ]
  },
  {
   "cell_type": "markdown",
   "id": "28a54db3",
   "metadata": {
    "heading_collapsed": true,
    "hidden": true
   },
   "source": [
    "### Get all values"
   ]
  },
  {
   "cell_type": "code",
   "execution_count": null,
   "id": "a4eacd40",
   "metadata": {
    "hidden": true
   },
   "outputs": [],
   "source": [
    "ascii_to_char.values()"
   ]
  },
  {
   "cell_type": "markdown",
   "id": "6a6acd08",
   "metadata": {
    "heading_collapsed": true,
    "hidden": true
   },
   "source": [
    "### Get both"
   ]
  },
  {
   "cell_type": "code",
   "execution_count": null,
   "id": "ead24663",
   "metadata": {
    "hidden": true
   },
   "outputs": [],
   "source": [
    "ascii_to_char.items()"
   ]
  },
  {
   "cell_type": "markdown",
   "id": "aa4fd254",
   "metadata": {
    "heading_collapsed": true,
    "hidden": true
   },
   "source": [
    "### Add an item"
   ]
  },
  {
   "cell_type": "code",
   "execution_count": null,
   "id": "87111eac",
   "metadata": {
    "hidden": true
   },
   "outputs": [],
   "source": [
    "ascii_to_char[99] = \"c\"\n",
    "ascii_to_char[100] = \"d\"\n",
    "ascii_to_char"
   ]
  },
  {
   "cell_type": "markdown",
   "id": "91596f54",
   "metadata": {
    "heading_collapsed": true,
    "hidden": true
   },
   "source": [
    "### Get an item"
   ]
  },
  {
   "cell_type": "code",
   "execution_count": null,
   "id": "0339ae67",
   "metadata": {
    "hidden": true
   },
   "outputs": [],
   "source": [
    "ascii_to_char[97]"
   ]
  },
  {
   "cell_type": "code",
   "execution_count": null,
   "id": "daff354a",
   "metadata": {
    "hidden": true
   },
   "outputs": [],
   "source": [
    "ascii_to_char.get(97)"
   ]
  },
  {
   "cell_type": "markdown",
   "id": "b0a087fa",
   "metadata": {
    "heading_collapsed": true,
    "hidden": true
   },
   "source": [
    "### Get an item + default value"
   ]
  },
  {
   "cell_type": "code",
   "execution_count": null,
   "id": "345a1879",
   "metadata": {
    "hidden": true
   },
   "outputs": [],
   "source": [
    "ascii_to_char[105]"
   ]
  },
  {
   "cell_type": "code",
   "execution_count": null,
   "id": "bde91282",
   "metadata": {
    "hidden": true
   },
   "outputs": [],
   "source": [
    "ascii_to_char.get(105)  # the default return value is `None`"
   ]
  },
  {
   "cell_type": "code",
   "execution_count": null,
   "id": "3edf621b",
   "metadata": {
    "hidden": true
   },
   "outputs": [],
   "source": [
    "ascii_to_char.get(105, 'i')"
   ]
  },
  {
   "cell_type": "markdown",
   "id": "ddb4fa96",
   "metadata": {
    "heading_collapsed": true,
    "hidden": true
   },
   "source": [
    "### Set with default if not defined"
   ]
  },
  {
   "cell_type": "code",
   "execution_count": null,
   "id": "fda9aced",
   "metadata": {
    "hidden": true
   },
   "outputs": [],
   "source": [
    "ascii_to_char.setdefault(97, \"x\")"
   ]
  },
  {
   "cell_type": "code",
   "execution_count": null,
   "id": "da561005",
   "metadata": {
    "hidden": true
   },
   "outputs": [],
   "source": [
    "ascii_to_char"
   ]
  },
  {
   "cell_type": "code",
   "execution_count": null,
   "id": "8e6071bd",
   "metadata": {
    "hidden": true
   },
   "outputs": [],
   "source": [
    "ascii_to_char.setdefault(101, \"e\")"
   ]
  },
  {
   "cell_type": "code",
   "execution_count": null,
   "id": "c02aaf0a",
   "metadata": {
    "hidden": true
   },
   "outputs": [],
   "source": [
    "ascii_to_char"
   ]
  },
  {
   "cell_type": "markdown",
   "id": "ef462385",
   "metadata": {
    "heading_collapsed": true,
    "hidden": true
   },
   "source": [
    "### Delete an item"
   ]
  },
  {
   "cell_type": "code",
   "execution_count": null,
   "id": "c8268ac6",
   "metadata": {
    "hidden": true
   },
   "outputs": [],
   "source": [
    "del ascii_to_char[99]"
   ]
  },
  {
   "cell_type": "code",
   "execution_count": null,
   "id": "32a5522b",
   "metadata": {
    "hidden": true
   },
   "outputs": [],
   "source": [
    "# Also returns the value\n",
    "ascii_to_char.pop(100)"
   ]
  },
  {
   "cell_type": "markdown",
   "id": "c869fa52",
   "metadata": {
    "heading_collapsed": true,
    "hidden": true
   },
   "source": [
    "### Keys must be hashable"
   ]
  },
  {
   "cell_type": "code",
   "execution_count": null,
   "id": "5c4c349d",
   "metadata": {
    "hidden": true
   },
   "outputs": [],
   "source": [
    "d = {\"a\": \"b\"}\n",
    "d[(1, 2)] = (3, 4)\n",
    "d"
   ]
  },
  {
   "cell_type": "code",
   "execution_count": null,
   "id": "70e8a9e4",
   "metadata": {
    "hidden": true
   },
   "outputs": [],
   "source": [
    "lst = [1, 2]\n",
    "lst"
   ]
  },
  {
   "cell_type": "code",
   "execution_count": null,
   "id": "8b46a98d",
   "metadata": {
    "hidden": true
   },
   "outputs": [],
   "source": [
    "d[lst] = [3, 4]  # lst can't be hashed!"
   ]
  },
  {
   "cell_type": "markdown",
   "id": "5b45d537",
   "metadata": {
    "heading_collapsed": true,
    "hidden": true
   },
   "source": [
    "##### Lists cannot be hashed because they are mutable"
   ]
  },
  {
   "cell_type": "code",
   "execution_count": null,
   "id": "0492fd8a",
   "metadata": {
    "hidden": true
   },
   "outputs": [],
   "source": [
    "# This is a REALLY terrible idea\n",
    "\n",
    "\n",
    "class HashableList(list):\n",
    "    def __hash__(self):\n",
    "        return hash(tuple(self))\n",
    "\n",
    "\n",
    "hlst = HashableList([1, 2])\n",
    "hlst"
   ]
  },
  {
   "cell_type": "code",
   "execution_count": null,
   "id": "7f621c61",
   "metadata": {
    "hidden": true
   },
   "outputs": [],
   "source": [
    "d[hlst] = [3, 4]\n",
    "d"
   ]
  },
  {
   "cell_type": "markdown",
   "id": "e26bd574",
   "metadata": {
    "heading_collapsed": true,
    "hidden": true
   },
   "source": [
    "## Sets"
   ]
  },
  {
   "cell_type": "markdown",
   "id": "c673e35c",
   "metadata": {
    "hidden": true
   },
   "source": [
    "We're out of bracket types so it also uses `{` and `}`. Collects unique *hashable* elements."
   ]
  },
  {
   "cell_type": "code",
   "execution_count": null,
   "id": "6dc5ca9e",
   "metadata": {
    "hidden": true
   },
   "outputs": [],
   "source": [
    "{}"
   ]
  },
  {
   "cell_type": "code",
   "execution_count": null,
   "id": "7e8e5e58",
   "metadata": {
    "hidden": true
   },
   "outputs": [],
   "source": [
    "a = {1, 2, 3, 1}\n",
    "a"
   ]
  },
  {
   "cell_type": "code",
   "execution_count": null,
   "id": "0dafc166",
   "metadata": {
    "hidden": true,
    "scrolled": true
   },
   "outputs": [],
   "source": [
    "type(a)"
   ]
  },
  {
   "cell_type": "markdown",
   "id": "27ac1700",
   "metadata": {
    "heading_collapsed": true,
    "hidden": true
   },
   "source": [
    "### WTF"
   ]
  },
  {
   "cell_type": "code",
   "execution_count": null,
   "id": "d5ea3c9b",
   "metadata": {
    "hidden": true
   },
   "outputs": [],
   "source": [
    "type({}), type({1}), type({1, 2}), type(a)"
   ]
  },
  {
   "cell_type": "code",
   "execution_count": null,
   "id": "58c5ac5a",
   "metadata": {
    "hidden": true
   },
   "outputs": [],
   "source": [
    "type(set())"
   ]
  },
  {
   "cell_type": "markdown",
   "id": "c089bf31",
   "metadata": {
    "heading_collapsed": true,
    "hidden": true
   },
   "source": [
    "### Add an element"
   ]
  },
  {
   "cell_type": "code",
   "execution_count": null,
   "id": "e8ca7d07",
   "metadata": {
    "hidden": true
   },
   "outputs": [],
   "source": [
    "a.add(66)"
   ]
  },
  {
   "cell_type": "code",
   "execution_count": null,
   "id": "4f1501a2",
   "metadata": {
    "hidden": true
   },
   "outputs": [],
   "source": [
    "a"
   ]
  },
  {
   "cell_type": "markdown",
   "id": "ccc44066",
   "metadata": {
    "heading_collapsed": true,
    "hidden": true
   },
   "source": [
    "### Remove an element"
   ]
  },
  {
   "cell_type": "code",
   "execution_count": null,
   "id": "63c9c1d9",
   "metadata": {
    "hidden": true
   },
   "outputs": [],
   "source": [
    "a.remove(3)"
   ]
  },
  {
   "cell_type": "code",
   "execution_count": null,
   "id": "b26eec6b",
   "metadata": {
    "hidden": true
   },
   "outputs": [],
   "source": [
    "a"
   ]
  },
  {
   "cell_type": "markdown",
   "id": "dc3ede39",
   "metadata": {
    "heading_collapsed": true,
    "hidden": true
   },
   "source": [
    "### Set math!"
   ]
  },
  {
   "cell_type": "code",
   "execution_count": null,
   "id": "de05fa33",
   "metadata": {
    "hidden": true
   },
   "outputs": [],
   "source": [
    "b = {1, 9, 42}\n",
    "b"
   ]
  },
  {
   "cell_type": "code",
   "execution_count": null,
   "id": "7a883b0a",
   "metadata": {
    "hidden": true
   },
   "outputs": [],
   "source": [
    "a.union(b)  # a | b"
   ]
  },
  {
   "cell_type": "code",
   "execution_count": null,
   "id": "146d881e",
   "metadata": {
    "hidden": true
   },
   "outputs": [],
   "source": [
    "a.intersection(b)  # a & b"
   ]
  },
  {
   "cell_type": "code",
   "execution_count": null,
   "id": "22980926",
   "metadata": {
    "hidden": true
   },
   "outputs": [],
   "source": [
    "a.difference(b)  # a - b"
   ]
  },
  {
   "cell_type": "code",
   "execution_count": null,
   "id": "33f033dd",
   "metadata": {
    "hidden": true
   },
   "outputs": [],
   "source": [
    "b.difference(a)  # b - a"
   ]
  },
  {
   "cell_type": "code",
   "execution_count": null,
   "id": "979b1676",
   "metadata": {
    "hidden": true
   },
   "outputs": [],
   "source": [
    "a.symmetric_difference(b)  # a ^ b"
   ]
  },
  {
   "cell_type": "code",
   "execution_count": null,
   "id": "b07ad1d9",
   "metadata": {
    "hidden": true
   },
   "outputs": [],
   "source": [
    "a.issubset({1, 2, 66, 77}), a.issubset(a)"
   ]
  },
  {
   "cell_type": "markdown",
   "id": "21552aa3",
   "metadata": {
    "heading_collapsed": true
   },
   "source": [
    "# Bool"
   ]
  },
  {
   "cell_type": "code",
   "execution_count": null,
   "id": "5d01ef3c",
   "metadata": {
    "hidden": true
   },
   "outputs": [],
   "source": [
    "True"
   ]
  },
  {
   "cell_type": "code",
   "execution_count": null,
   "id": "4520b4ad",
   "metadata": {
    "hidden": true
   },
   "outputs": [],
   "source": [
    "False"
   ]
  },
  {
   "cell_type": "code",
   "execution_count": null,
   "id": "be1da878",
   "metadata": {
    "hidden": true
   },
   "outputs": [],
   "source": [
    "if True:\n",
    "    print(\"True\")"
   ]
  },
  {
   "cell_type": "code",
   "execution_count": null,
   "id": "0aac3ee5",
   "metadata": {
    "hidden": true
   },
   "outputs": [],
   "source": [
    "if False:\n",
    "    print(\"True\")"
   ]
  },
  {
   "cell_type": "markdown",
   "id": "ac0b2370",
   "metadata": {
    "heading_collapsed": true,
    "hidden": true
   },
   "source": [
    "### Truthiness"
   ]
  },
  {
   "cell_type": "code",
   "execution_count": null,
   "id": "214a4600",
   "metadata": {
    "hidden": true
   },
   "outputs": [],
   "source": [
    "if 42:\n",
    "    print(\"True\")"
   ]
  },
  {
   "cell_type": "code",
   "execution_count": null,
   "id": "d31b297c",
   "metadata": {
    "hidden": true
   },
   "outputs": [],
   "source": [
    "if \"b\":\n",
    "    print(\"True\")"
   ]
  },
  {
   "cell_type": "code",
   "execution_count": null,
   "id": "b586c98e",
   "metadata": {
    "hidden": true
   },
   "outputs": [],
   "source": [
    "if [1, 2]:\n",
    "    print(\"True\")"
   ]
  },
  {
   "cell_type": "code",
   "execution_count": null,
   "id": "bb15d8e2",
   "metadata": {
    "hidden": true
   },
   "outputs": [],
   "source": [
    "if (3, 4):\n",
    "    print(\"True\")"
   ]
  },
  {
   "cell_type": "code",
   "execution_count": null,
   "id": "a7fa5dc1",
   "metadata": {
    "hidden": true
   },
   "outputs": [],
   "source": [
    "if {\"a\": \"b\"}:\n",
    "    print(\"True\")"
   ]
  },
  {
   "cell_type": "code",
   "execution_count": null,
   "id": "fda9be2f",
   "metadata": {
    "hidden": true
   },
   "outputs": [],
   "source": [
    "if {\"a\", \"b\"}:\n",
    "    print(\"True\")"
   ]
  },
  {
   "cell_type": "code",
   "execution_count": null,
   "id": "aa30bfcc",
   "metadata": {
    "hidden": true
   },
   "outputs": [],
   "source": [
    "if [] or {} or set() or tuple() or \"\" or None:\n",
    "    print(\"True\")"
   ]
  },
  {
   "cell_type": "code",
   "execution_count": null,
   "id": "4412e74e",
   "metadata": {
    "hidden": true
   },
   "outputs": [],
   "source": []
  }
 ],
 "metadata": {
  "kernelspec": {
   "display_name": "Python 3 (ipykernel)",
   "language": "python",
   "name": "python3"
  },
  "language_info": {
   "codemirror_mode": {
    "name": "ipython",
    "version": 3
   },
   "file_extension": ".py",
   "mimetype": "text/x-python",
   "name": "python",
   "nbconvert_exporter": "python",
   "pygments_lexer": "ipython3",
   "version": "3.10.2"
  }
 },
 "nbformat": 4,
 "nbformat_minor": 5
}
